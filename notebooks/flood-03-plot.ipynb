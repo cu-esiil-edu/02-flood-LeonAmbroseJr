{
  "cells": [
    {
      "cell_type": "markdown",
      "id": "64a16f5f-a488-42a6-985d-d8e4a50ca28d",
      "metadata": {},
      "source": [
        "# The Midwest underwater\n",
        "\n",
        "A look at 2019 floods in South Dakota, USA\n",
        "\n",
        "Elsa Culler  \n",
        "Nate Quarderer  \n",
        "2025-05-20\n",
        "\n",
        "## Set up\n",
        "\n",
        "To get started on this notebook, you’ll need to restore any variables\n",
        "from previous notebooks to your workspace."
      ]
    },
    {
      "cell_type": "code",
      "execution_count": 13,
      "id": "dc5ff8a7",
      "metadata": {},
      "outputs": [
        {
          "ename": "ModuleNotFoundError",
          "evalue": "No module named 'panda'",
          "output_type": "error",
          "traceback": [
            "\u001b[31m---------------------------------------------------------------------------\u001b[39m",
            "\u001b[31mModuleNotFoundError\u001b[39m                       Traceback (most recent call last)",
            "\u001b[36mCell\u001b[39m\u001b[36m \u001b[39m\u001b[32mIn[13]\u001b[39m\u001b[32m, line 4\u001b[39m\n\u001b[32m      1\u001b[39m get_ipython().run_line_magic(\u001b[33m'\u001b[39m\u001b[33mstore\u001b[39m\u001b[33m'\u001b[39m, \u001b[33m'\u001b[39m\u001b[33m-r\u001b[39m\u001b[33m'\u001b[39m)\n\u001b[32m      3\u001b[39m \u001b[38;5;66;03m# Import libraries\u001b[39;00m\n\u001b[32m----> \u001b[39m\u001b[32m4\u001b[39m \u001b[38;5;28;01mimport\u001b[39;00m\u001b[38;5;250m \u001b[39m\u001b[34;01mpanda\u001b[39;00m\u001b[38;5;250m \u001b[39m\u001b[38;5;28;01mas\u001b[39;00m\u001b[38;5;250m \u001b[39m\u001b[34;01mpd\u001b[39;00m \u001b[38;5;66;03m#work with tabular data\u001b[39;00m\n\u001b[32m      5\u001b[39m \u001b[38;5;28;01mimport\u001b[39;00m\u001b[38;5;250m \u001b[39m\u001b[34;01mgeopandas\u001b[39;00m\u001b[38;5;250m \u001b[39m\u001b[38;5;28;01mas\u001b[39;00m\u001b[38;5;250m \u001b[39m\u001b[34;01mgpd\u001b[39;00m \u001b[38;5;66;03m#work with spatial data\u001b[39;00m\n\u001b[32m      6\u001b[39m \u001b[38;5;28;01mimport\u001b[39;00m\u001b[38;5;250m \u001b[39m\u001b[34;01mhvplot\u001b[39;00m\u001b[34;01m.\u001b[39;00m\u001b[34;01mpandas\u001b[39;00m \u001b[38;5;66;03m# interactive pandas\u001b[39;00m\n",
            "\u001b[31mModuleNotFoundError\u001b[39m: No module named 'panda'"
          ]
        }
      ],
      "source": [
        "%store -r\n",
        "\n",
        "# Import libraries\n",
        "import panda as pd #work with tabular data\n",
        "import geopandas as gpd #work with spatial data\n",
        "import hvplot.pandas # interactive pandas\n"
      ]
    },
    {
      "cell_type": "markdown",
      "id": "2e958143-6668-47c3-b1cc-e2c79e69f2f4",
      "metadata": {},
      "source": [
        "## STEP 3: Visualize the flood\n",
        "\n",
        "Visualizing the data will help make sure that everything is formatted\n",
        "correctly and makes sense. It also helps later on with communicating\n",
        "your results.\n",
        "\n",
        "### Can we see the flood in the streamflow data?\n",
        "\n",
        "Let’s take a look at the data from February - September, 2019. This\n",
        "should let us see the peak streamflow values and when they occurred.\n",
        "\n",
        "<link rel=\"stylesheet\" type=\"text/css\" href=\"./assets/styles.css\"><div class=\"callout callout-style-default callout-titled callout-task\"><div class=\"callout-header\"><div class=\"callout-icon-container\"><i class=\"callout-icon\"></i></div><div class=\"callout-title-container flex-fill\">Try It</div></div><div class=\"callout-body-container callout-body\"><p>Below, you will see an example of how to subset your streamflow data\n",
        "by date.We do this using the <code>.loc</code> attribute of your\n",
        "<code>DataFrame</code>, which is a powerful tool for selecting the rows\n",
        "you want. Because the dates are in the Python <code>datetime64</code>\n",
        "format, you can select based on the year and month, without needing to\n",
        "type out dates or times!</p>\n",
        "<ol type=\"1\">\n",
        "<li>Replace <code>dataframe_name</code> with your streamflow\n",
        "<code>DataFrame</code> name.</li>\n",
        "<li>Save the result to a descriptive variable name, and call it at the\n",
        "end of the cell for testing.</li>\n",
        "</ol></div></div>\n",
        "\n",
        "You can find some [examples of subsetting time series data in the\n",
        "textbook](https://www.earthdatascience.org/courses/use-data-open-source-python/use-time-series-data-in-python/date-time-types-in-pandas-python/subset-time-series-data-python/)."
      ]
    },
    {
      "cell_type": "code",
      "execution_count": null,
      "id": "4f70d1bf",
      "metadata": {
        "template": "student"
      },
      "outputs": [
        {
          "ename": "NameError",
          "evalue": "name 'discharge_df' is not defined",
          "output_type": "error",
          "traceback": [
            "\u001b[31m---------------------------------------------------------------------------\u001b[39m",
            "\u001b[31mNameError\u001b[39m                                 Traceback (most recent call last)",
            "\u001b[36mCell\u001b[39m\u001b[36m \u001b[39m\u001b[32mIn[10]\u001b[39m\u001b[32m, line 2\u001b[39m\n\u001b[32m      1\u001b[39m \u001b[38;5;66;03m#select dates from Feb - Sept 2019\u001b[39;00m\n\u001b[32m----> \u001b[39m\u001b[32m2\u001b[39m discharge_2019 = \u001b[43mdischarge_df\u001b[49m.loc[\u001b[33m'\u001b[39m\u001b[33m2019-02\u001b[39m\u001b[33m'\u001b[39m:\u001b[33m'\u001b[39m\u001b[33m2019-09\u001b[39m\u001b[33m'\u001b[39m]\n\u001b[32m      3\u001b[39m discharge_2019 \n",
            "\u001b[31mNameError\u001b[39m: name 'discharge_df' is not defined"
          ]
        }
      ],
      "source": [
        "#select dates from Feb - Sept 2019\n",
        "discharge_2019 = discharge_df.loc['2019-02':'2019-09']\n",
        "discharge_2019 "
      ]
    },
    {
      "cell_type": "markdown",
      "id": "260b485d-0e74-492d-810d-c7dcb0cf09b2",
      "metadata": {},
      "source": [
        "### Create a line plot with Python\n",
        "\n",
        "Next, plot your subsetted data. Don’t forget to label your plot!\n",
        "\n",
        "<link rel=\"stylesheet\" type=\"text/css\" href=\"./assets/styles.css\"><div class=\"callout callout-style-default callout-titled callout-task\"><div class=\"callout-header\"><div class=\"callout-icon-container\"><i class=\"callout-icon\"></i></div><div class=\"callout-title-container flex-fill\">Try It</div></div><div class=\"callout-body-container callout-body\"></div></div>"
      ]
    },
    {
      "cell_type": "code",
      "execution_count": 15,
      "id": "85166cbd",
      "metadata": {
        "template": "student"
      },
      "outputs": [
        {
          "ename": "NameError",
          "evalue": "name 'discharge_2019' is not defined",
          "output_type": "error",
          "traceback": [
            "\u001b[31m---------------------------------------------------------------------------\u001b[39m",
            "\u001b[31mNameError\u001b[39m                                 Traceback (most recent call last)",
            "\u001b[36mCell\u001b[39m\u001b[36m \u001b[39m\u001b[32mIn[15]\u001b[39m\u001b[32m, line 3\u001b[39m\n\u001b[32m      1\u001b[39m (\u001b[38;5;66;03m#Plot the data \u001b[39;00m\n\u001b[32m      2\u001b[39m \n\u001b[32m----> \u001b[39m\u001b[32m3\u001b[39m     \u001b[43mdischarge_2019\u001b[49m\n\u001b[32m      4\u001b[39m     .plot(\n\u001b[32m      5\u001b[39m         xlabel=\u001b[33m'\u001b[39m\u001b[33mdate\u001b[39m\u001b[33m'\u001b[39m, \n\u001b[32m      6\u001b[39m         ylabel=\u001b[33m'\u001b[39m\u001b[33mdischarge (cfs)\u001b[39m\u001b[33m'\u001b[39m,\n\u001b[32m      7\u001b[39m         title=\u001b[33m'\u001b[39m\u001b[33mCheyenne River Discharge @ Wasta, SD\u001b[39m\u001b[33m'\u001b[39m)\n\u001b[32m      8\u001b[39m )\n",
            "\u001b[31mNameError\u001b[39m: name 'discharge_2019' is not defined"
          ]
        }
      ],
      "source": [
        "(#Plot the data \n",
        "    \n",
        "    discharge_2019\n",
        "    .plot(\n",
        "        xlabel='date', \n",
        "        ylabel='discharge (cfs)',\n",
        "        title='Cheyenne River Discharge @ Wasta, SD')\n",
        ")"
      ]
    },
    {
      "cell_type": "markdown",
      "id": "ce1b4783-8e9f-4610-878c-6f6e8e517f93",
      "metadata": {},
      "source": [
        "You should be able to see the flood in your data going up above 12000\n",
        "cfs at its peak! In the next section, you’ll analyze how unusual that\n",
        "is.\n",
        "\n",
        "## Wrap up\n",
        "\n",
        "Don’t forget to store your variables so you can use them in other\n",
        "notebooks! This code will store all your variables. You might want to\n",
        "specify specific variables, especially if you have large objects in\n",
        "memory that you won’t need in the future."
      ]
    },
    {
      "cell_type": "code",
      "execution_count": null,
      "id": "4f730a5d",
      "metadata": {},
      "outputs": [],
      "source": [
        "%store"
      ]
    },
    {
      "cell_type": "markdown",
      "id": "c69f8f70-7907-40c1-b1fd-5ed38ca02d5b",
      "metadata": {},
      "source": [
        "Finally, be sure to `Restart` and `Run all` to make sure your notebook\n",
        "works all the way through!"
      ]
    }
  ],
  "metadata": {
    "kernelspec": {
      "display_name": "base",
      "language": "python",
      "name": "python3"
    },
    "language_info": {
      "codemirror_mode": {
        "name": "ipython",
        "version": 3
      },
      "file_extension": ".py",
      "mimetype": "text/x-python",
      "name": "python",
      "nbconvert_exporter": "python",
      "pygments_lexer": "ipython3",
      "version": "3.11.6"
    }
  },
  "nbformat": 4,
  "nbformat_minor": 5
}
